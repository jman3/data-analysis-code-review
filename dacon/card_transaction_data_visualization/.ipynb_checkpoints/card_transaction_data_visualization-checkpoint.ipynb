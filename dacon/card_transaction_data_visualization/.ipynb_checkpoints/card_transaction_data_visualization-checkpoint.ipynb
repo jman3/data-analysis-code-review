{
 "cells": [
  {
   "cell_type": "markdown",
   "id": "c3ccc822",
   "metadata": {},
   "source": [
    "[데이콘] 신용카드 거래 데이터 시각화 대회\n",
    "링크: https://dacon.io/competitions/official/42473/codeshare/429?page=1&dtype=recent"
   ]
  },
  {
   "cell_type": "markdown",
   "id": "1c5196b5",
   "metadata": {},
   "source": [
    "# 라이브러리 임포트 & 데이터 로드"
   ]
  },
  {
   "cell_type": "code",
   "execution_count": null,
   "id": "3af8d917",
   "metadata": {},
   "outputs": [],
   "source": [
    "import pandas as pd\n",
    "import matplotlib.pyplot as plt\n",
    "import matplotlib\n",
    "plt.rcParams['axes.unicode_minus'] = False # 한글폰트 사용 시 마이너스 기호 깨짐 방지\n",
    "from matplotlib import rc\n",
    "rc('font', family='Malgun Gothic') # 한글도 가능하도록 폰트 설정\n",
    "import seaborn as sns\n",
    "import numpy as np\n",
    "from collections import Counter\n",
    "import os"
   ]
  },
  {
   "cell_type": "code",
   "execution_count": null,
   "id": "d35675f5",
   "metadata": {},
   "outputs": [],
   "source": [
    "os.listdir()"
   ]
  },
  {
   "cell_type": "code",
   "execution_count": null,
   "id": "0e48f052",
   "metadata": {},
   "outputs": [],
   "source": [
    "train = pd.read_csv('dataset/train.csv')"
   ]
  },
  {
   "cell_type": "markdown",
   "id": "fc5f69a8",
   "metadata": {},
   "source": [
    "# 컬럼 살펴보기"
   ]
  },
  {
   "cell_type": "markdown",
   "id": "c6120dcc",
   "metadata": {},
   "source": [
    "- store_id : 각 파일에서의 상점 고유 번호.\n",
    "- date : 거래 일자\n",
    "- time : 거래 시간\n",
    "- card_id : 카드 번호의 hash 값\n",
    "- amount : 매출액, 0보다 작은 음수는 거래 취소(환불), 단위 krw 아님, 할부개월수만큼 amount들어옴\n",
    "- installments : 할부개월수. 일시불은 빈 문자열\n",
    "- days_of_week : 요일, 월요일이 0, 일요일은 6\n",
    "- holyday : 1이면 공휴일, 0이면 공휴일 아님"
   ]
  },
  {
   "cell_type": "code",
   "execution_count": null,
   "id": "eb947995",
   "metadata": {},
   "outputs": [],
   "source": [
    "train.head()"
   ]
  },
  {
   "cell_type": "markdown",
   "id": "f148f0d2",
   "metadata": {},
   "source": [
    "# 데이터 가공하기"
   ]
  },
  {
   "cell_type": "markdown",
   "id": "372996f9",
   "metadata": {},
   "source": [
    "## Outlier 제거하기"
   ]
  },
  {
   "cell_type": "markdown",
   "id": "ea19887c",
   "metadata": {},
   "source": [
    "이상치가 있을 만한 컬럼은 amount"
   ]
  },
  {
   "cell_type": "markdown",
   "id": "c18dabdb",
   "metadata": {},
   "source": [
    "violinplot을 이용해 데이터 분포범위를 확인"
   ]
  },
  {
   "cell_type": "code",
   "execution_count": null,
   "id": "763a70ef",
   "metadata": {},
   "outputs": [],
   "source": [
    "train['temp'] = 1"
   ]
  },
  {
   "cell_type": "code",
   "execution_count": null,
   "id": "2c8f3980",
   "metadata": {},
   "outputs": [],
   "source": [
    "sns.catplot(data = train, x = 'temp', y = 'amount', kind = 'violin')"
   ]
  },
  {
   "cell_type": "markdown",
   "id": "84af9d0d",
   "metadata": {},
   "source": [
    "boxplot으로 이상치들 확인"
   ]
  },
  {
   "cell_type": "code",
   "execution_count": null,
   "id": "41385a2b",
   "metadata": {},
   "outputs": [],
   "source": [
    "sns.catplot(data = train, x = 'temp', y = 'amount', kind = 'box')"
   ]
  },
  {
   "cell_type": "markdown",
   "id": "24fd6015",
   "metadata": {},
   "source": [
    "amount의 평균을 확인해보면,145 정도로 최대/최소값 250000과는 괴리가 큼"
   ]
  },
  {
   "cell_type": "code",
   "execution_count": null,
   "id": "b4725ac1",
   "metadata": {},
   "outputs": [],
   "source": [
    "train['amount'].describe()"
   ]
  },
  {
   "cell_type": "markdown",
   "id": "6afba92e",
   "metadata": {},
   "source": [
    "numpy의 percentile을 이용해 데이터가 차지하는 비율을 확인\n",
    "- 99%의 데이터는 1335이하, 98%의 데이터는 800이하의 값을 가짐"
   ]
  },
  {
   "cell_type": "code",
   "execution_count": null,
   "id": "8b2b7da8",
   "metadata": {},
   "outputs": [],
   "source": [
    "train_percentile = np.percentile(train['amount'], [98,99])\n",
    "print(train_percentile)"
   ]
  },
  {
   "cell_type": "markdown",
   "id": "736d1ba6",
   "metadata": {},
   "source": [
    "따라서, -1000 이상 1000 이하의 amount 값만 가지고 분석을 진행하려고 함"
   ]
  },
  {
   "cell_type": "code",
   "execution_count": null,
   "id": "abc2d318",
   "metadata": {},
   "outputs": [],
   "source": [
    "train = train.loc[(train['amount'] <= 1000) & (train['amount'] >= -1000)]"
   ]
  },
  {
   "cell_type": "code",
   "execution_count": null,
   "id": "e709d660",
   "metadata": {},
   "outputs": [],
   "source": [
    "sns.catplot(data = train, x = 'temp', y = 'amount', kind = 'violin')"
   ]
  },
  {
   "cell_type": "code",
   "execution_count": null,
   "id": "25ecf9b3",
   "metadata": {},
   "outputs": [],
   "source": [
    "sns.catplot(data = train, x = 'temp', y = 'amount', kind = 'box')"
   ]
  },
  {
   "cell_type": "markdown",
   "id": "545c8b43",
   "metadata": {},
   "source": [
    "## NULL값 채우기"
   ]
  },
  {
   "cell_type": "markdown",
   "id": "de24115d",
   "metadata": {},
   "source": [
    "train 데이터셋의 컬럼별 null값을 살펴보면, installments 컬럼에만 존재함을 알 수 있다. 해당 컬럼의 공백은 일시불을 의미하므로 모두 숫자 1을 넣어준다"
   ]
  },
  {
   "cell_type": "code",
   "execution_count": null,
   "id": "f48a636a",
   "metadata": {},
   "outputs": [],
   "source": [
    "train.isnull().sum()"
   ]
  },
  {
   "cell_type": "code",
   "execution_count": null,
   "id": "9c635997",
   "metadata": {},
   "outputs": [],
   "source": [
    "train.fillna(1, inplace = True)"
   ]
  },
  {
   "cell_type": "markdown",
   "id": "d288a210",
   "metadata": {},
   "source": [
    "## Total 컬럼은 생성하지 않음"
   ]
  },
  {
   "cell_type": "markdown",
   "id": "f4d06e8f",
   "metadata": {},
   "source": [
    "# 데이터 분석"
   ]
  },
  {
   "cell_type": "markdown",
   "id": "b41ddd39",
   "metadata": {},
   "source": [
    "본격적인 데이터 분석에 앞서 column간의 상관관계를 알아본다"
   ]
  },
  {
   "cell_type": "code",
   "execution_count": null,
   "id": "bc8b81a8",
   "metadata": {},
   "outputs": [],
   "source": [
    "del train['temp']"
   ]
  },
  {
   "cell_type": "code",
   "execution_count": null,
   "id": "f491d090",
   "metadata": {},
   "outputs": [],
   "source": [
    "train[train.columns].corr()"
   ]
  },
  {
   "cell_type": "code",
   "execution_count": null,
   "id": "049357f5",
   "metadata": {},
   "outputs": [],
   "source": [
    "plt.figure(figsize = (12, 10))\n",
    "plt.title('columns corr')\n",
    "sns.heatmap(train[train.columns].corr(), cmap = 'RdBu_r', annot = True)"
   ]
  },
  {
   "cell_type": "markdown",
   "id": "ecc30d4b",
   "metadata": {},
   "source": [
    "## store_id"
   ]
  },
  {
   "cell_type": "code",
   "execution_count": null,
   "id": "a7093317",
   "metadata": {},
   "outputs": [],
   "source": [
    "# store_id 별로 몇 번의 거래가 일어났는지 시각화\n",
    "figure, ax = plt.subplots()\n",
    "figure.set_size_inches(10, 500)\n",
    "sns.countplot(data = train, y = 'store_id')"
   ]
  },
  {
   "cell_type": "code",
   "execution_count": null,
   "id": "9e68afe4",
   "metadata": {},
   "outputs": [],
   "source": [
    "# 거래 기록 상위 N개 상점에 대해서 살펴본다\n",
    "\n",
    "count_list = []\n",
    "for i in range(1799):\n",
    "    train_temp = train.loc[train[\"store_id\"] == i]\n",
    "    values = {\"count\" : train_temp.shape[0]} # train_temp df의 행 개수\n",
    "    count_list.append(values) # 리스트에 딕셔너리 추가"
   ]
  },
  {
   "cell_type": "code",
   "execution_count": null,
   "id": "7bdc70be",
   "metadata": {},
   "outputs": [],
   "source": [
    "count_list = pd.DataFrame.from_dict(count_list)\n",
    "count_list = count_list.sort_values(by=\"count\", ascending=False)\n",
    "count_list.index.name = \"store_id\""
   ]
  },
  {
   "cell_type": "code",
   "execution_count": null,
   "id": "fa0d5797",
   "metadata": {},
   "outputs": [],
   "source": [
    "count_list.head(10)"
   ]
  },
  {
   "cell_type": "markdown",
   "id": "b513de00",
   "metadata": {},
   "source": [
    "- 가장 많은 거래 기록이 있는 상점 번호는 0이며, 해당 기간 68715 건의 거래가 있었음"
   ]
  },
  {
   "cell_type": "code",
   "execution_count": null,
   "id": "f23400c0",
   "metadata": {},
   "outputs": [],
   "source": [
    "count_list.tail(10)"
   ]
  },
  {
   "cell_type": "markdown",
   "id": "68377759",
   "metadata": {},
   "source": [
    "- 0개의 거래 데이터를 가진 상점들이 있는 것으로 보임"
   ]
  },
  {
   "cell_type": "code",
   "execution_count": null,
   "id": "665a1bd2",
   "metadata": {},
   "outputs": [],
   "source": [
    "# 0건의 거래 데이터를 가진 상점들이 얼마나 있을까?\n",
    "\n",
    "count_list[count_list['count'] == 0].shape # 총 55개 존재"
   ]
  },
  {
   "cell_type": "markdown",
   "id": "c5754202",
   "metadata": {},
   "source": [
    "(다른 방법) 데이터셋에 없는 store_id가 존재하지 않는 것으로 가정한다면."
   ]
  },
  {
   "cell_type": "code",
   "execution_count": null,
   "id": "bda7cf2e",
   "metadata": {},
   "outputs": [],
   "source": [
    "train.groupby('store_id').size().reset_index(name = '거래횟수').sort_values(by = '거래횟수', ascending = False).head(10)"
   ]
  },
  {
   "cell_type": "markdown",
   "id": "8a467049",
   "metadata": {},
   "source": [
    "## amount & installments"
   ]
  },
  {
   "cell_type": "markdown",
   "id": "2d33fca5",
   "metadata": {},
   "source": [
    "구매 금액과 할부 기간의 상관관계를 알아보자\n",
    "- 분석 대상으로는 amount가 0 이상인 경우만 고려한다"
   ]
  },
  {
   "cell_type": "code",
   "execution_count": null,
   "id": "ab8c1701",
   "metadata": {},
   "outputs": [],
   "source": [
    "amount_over0 = train[train['amount'] >= 0]"
   ]
  },
  {
   "cell_type": "code",
   "execution_count": null,
   "id": "03cd341a",
   "metadata": {},
   "outputs": [],
   "source": [
    "amount_over0"
   ]
  },
  {
   "cell_type": "code",
   "execution_count": null,
   "id": "1350f971",
   "metadata": {},
   "outputs": [],
   "source": [
    "cmap = sns.cubehelix_palette(rot=-.2, as_cmap=True)\n",
    "plt.figure(figsize=(10, 7))\n",
    "sns.scatterplot(data=amount_over0, x=\"installments\", y=\"amount\", palette=cmap)"
   ]
  },
  {
   "cell_type": "markdown",
   "id": "2c6485e8",
   "metadata": {},
   "source": [
    "## amount & installments (추가분석)"
   ]
  },
  {
   "cell_type": "markdown",
   "id": "f5db7507",
   "metadata": {},
   "source": [
    "### amount가 0이상인 데이터만 가지고 amount와 installments 상관계수를 구하면 조금 달라질까?"
   ]
  },
  {
   "cell_type": "code",
   "execution_count": null,
   "id": "0b09ed00",
   "metadata": {},
   "outputs": [],
   "source": [
    "amount_over0[amount_over0.columns].corr()"
   ]
  },
  {
   "cell_type": "code",
   "execution_count": null,
   "id": "c929843b",
   "metadata": {},
   "outputs": [],
   "source": [
    "plt.figure(figsize = (12, 10))\n",
    "plt.title('columns corr')\n",
    "sns.heatmap(amount_over0[amount_over0.columns].corr(), cmap = 'RdBu_r', annot = True)"
   ]
  },
  {
   "cell_type": "markdown",
   "id": "083175ad",
   "metadata": {},
   "source": [
    "- 유의미한 차이가 발견되지 않음"
   ]
  },
  {
   "cell_type": "markdown",
   "id": "cc488519",
   "metadata": {},
   "source": [
    "### installments와 amount의 관계 더 살펴보기"
   ]
  },
  {
   "cell_type": "code",
   "execution_count": null,
   "id": "ceceba5c",
   "metadata": {},
   "outputs": [],
   "source": [
    "installments_group = amount_over0.groupby('installments')"
   ]
  },
  {
   "cell_type": "code",
   "execution_count": null,
   "id": "b112543f",
   "metadata": {},
   "outputs": [],
   "source": [
    "installments_group.size().reset_index(name = '거래횟수')"
   ]
  },
  {
   "cell_type": "markdown",
   "id": "db10aa36",
   "metadata": {},
   "source": [
    "- 대부분의 거래가 일시불로 이뤄짐을 알 수 있음."
   ]
  },
  {
   "cell_type": "code",
   "execution_count": null,
   "id": "e1a75f83",
   "metadata": {},
   "outputs": [],
   "source": [
    "# 할부기간에 따라 결제 금액의 평균값을 살펴보면\n",
    "installments_group['amount'].mean().reset_index(name = '결제 평균값')"
   ]
  },
  {
   "cell_type": "markdown",
   "id": "dbf36e0b",
   "metadata": {},
   "source": [
    "- 전반적으로 할부 기간이 올라갈수록 결제 평균값이 올라가는 경향을 보임. 다만, 9개월 할부, 22개월 할부에서는 오히려 많이 떨어짐"
   ]
  },
  {
   "cell_type": "code",
   "execution_count": null,
   "id": "a12ecab5",
   "metadata": {},
   "outputs": [],
   "source": [
    "# 해당 할부 기간의 데이터를 조금 더 살펴보면\n",
    "train[train['installments'].isin([9, 22])].sort_values(by = [\"installments\", \"store_id\", \"amount\"])"
   ]
  },
  {
   "cell_type": "markdown",
   "id": "01e93748",
   "metadata": {},
   "source": [
    "- 평균 구매 단가가 300-400정도인 특정 매장에서 9개월, 22개월 무이자 할부 이벤트를 했을 가능성"
   ]
  },
  {
   "cell_type": "code",
   "execution_count": null,
   "id": "e4873b84",
   "metadata": {},
   "outputs": [],
   "source": [
    "# scatterplot에서 일시불이 아닌 데이터들이 특정 값 이상으로 분포하고 있음을 발견했다. 더 자세히 살펴보기 위해, \n",
    "installments_group['amount'].min().reset_index(name = '최소값')"
   ]
  },
  {
   "cell_type": "markdown",
   "id": "c575e335",
   "metadata": {},
   "source": [
    "- 할부가 가능한 최소 금액이 250이 아닐까?"
   ]
  }
 ],
 "metadata": {
  "kernelspec": {
   "display_name": "Python 3 (ipykernel)",
   "language": "python",
   "name": "python3"
  },
  "language_info": {
   "codemirror_mode": {
    "name": "ipython",
    "version": 3
   },
   "file_extension": ".py",
   "mimetype": "text/x-python",
   "name": "python",
   "nbconvert_exporter": "python",
   "pygments_lexer": "ipython3",
   "version": "3.10.4"
  },
  "toc": {
   "base_numbering": 1,
   "nav_menu": {},
   "number_sections": true,
   "sideBar": true,
   "skip_h1_title": false,
   "title_cell": "Table of Contents",
   "title_sidebar": "Contents",
   "toc_cell": false,
   "toc_position": {
    "height": "calc(100% - 180px)",
    "left": "10px",
    "top": "150px",
    "width": "294px"
   },
   "toc_section_display": true,
   "toc_window_display": true
  }
 },
 "nbformat": 4,
 "nbformat_minor": 5
}
